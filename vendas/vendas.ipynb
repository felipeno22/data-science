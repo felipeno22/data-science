{
 "cells": [
  {
   "cell_type": "markdown",
   "metadata": {},
   "source": [
    "# Python - Analisando Dados com Python\n",
    "\n",
    "### Case - Loja de vendas\n",
    "\n",
    "Objetivo: Esse estudo é sobre uma loja de roupas de porte médio , fui chamado para ajudar na analise solução de problemas:\n",
    "\n",
    "Problema 1 : Você precisa descobrir de cada funcionário o total de vendas;\n",
    "\n",
    "Problema 2 : Você precisa descobrir qual é o produto mais e o menos vendido por cada funcionário;\n",
    "\n",
    "Problema 3 : Você precisa descobrir qual é o produto mais e menos vendido no total;\n",
    "\n",
    "\n",
    "Problema 4 : Você precisa descobrir qual é o funcionário que teve o maior total de vendas em um determinado período (por exemplo, nos últimos 30 dias);\n",
    "\n",
    "Problema 5 : Você precisa descobrir qual é o funcionário que teve o menor total de vendas em um determinado período (por exemplo, nos últimos 30 dias);\n",
    "\n",
    "\n",
    "\n"
   ]
  },
  {
   "cell_type": "code",
   "execution_count": null,
   "metadata": {},
   "outputs": [],
   "source": [
    "# Importar librarys para análise\n",
    "#!pip install pandas numpy openpyxl nbformat plotly\n"
   ]
  },
  {
   "cell_type": "code",
   "execution_count": 5,
   "metadata": {},
   "outputs": [
    {
     "data": {
      "text/html": [
       "<div>\n",
       "<style scoped>\n",
       "    .dataframe tbody tr th:only-of-type {\n",
       "        vertical-align: middle;\n",
       "    }\n",
       "\n",
       "    .dataframe tbody tr th {\n",
       "        vertical-align: top;\n",
       "    }\n",
       "\n",
       "    .dataframe thead th {\n",
       "        text-align: right;\n",
       "    }\n",
       "</style>\n",
       "<table border=\"1\" class=\"dataframe\">\n",
       "  <thead>\n",
       "    <tr style=\"text-align: right;\">\n",
       "      <th></th>\n",
       "      <th>Data Venda</th>\n",
       "      <th>ID Funcionário</th>\n",
       "      <th>Categoria</th>\n",
       "      <th>Produto</th>\n",
       "      <th>Quantidade</th>\n",
       "      <th>Preço Unitário</th>\n",
       "      <th>Total da Venda</th>\n",
       "    </tr>\n",
       "  </thead>\n",
       "  <tbody>\n",
       "    <tr>\n",
       "      <th>0</th>\n",
       "      <td>2024-09-30</td>\n",
       "      <td>F050</td>\n",
       "      <td>criança</td>\n",
       "      <td>Camiseta</td>\n",
       "      <td>3</td>\n",
       "      <td>90.44</td>\n",
       "      <td>271.32</td>\n",
       "    </tr>\n",
       "    <tr>\n",
       "      <th>1</th>\n",
       "      <td>2024-10-08</td>\n",
       "      <td>F006</td>\n",
       "      <td>criança</td>\n",
       "      <td>Camiseta</td>\n",
       "      <td>3</td>\n",
       "      <td>16.55</td>\n",
       "      <td>49.65</td>\n",
       "    </tr>\n",
       "    <tr>\n",
       "      <th>2</th>\n",
       "      <td>2024-10-08</td>\n",
       "      <td>F018</td>\n",
       "      <td>criança</td>\n",
       "      <td>Bermuda</td>\n",
       "      <td>5</td>\n",
       "      <td>26.92</td>\n",
       "      <td>134.60</td>\n",
       "    </tr>\n",
       "    <tr>\n",
       "      <th>3</th>\n",
       "      <td>2024-09-27</td>\n",
       "      <td>F042</td>\n",
       "      <td>criança</td>\n",
       "      <td>Calça Infantil</td>\n",
       "      <td>4</td>\n",
       "      <td>99.21</td>\n",
       "      <td>396.84</td>\n",
       "    </tr>\n",
       "    <tr>\n",
       "      <th>4</th>\n",
       "      <td>2024-10-01</td>\n",
       "      <td>F012</td>\n",
       "      <td>adulto</td>\n",
       "      <td>Calça</td>\n",
       "      <td>2</td>\n",
       "      <td>30.62</td>\n",
       "      <td>61.24</td>\n",
       "    </tr>\n",
       "    <tr>\n",
       "      <th>...</th>\n",
       "      <td>...</td>\n",
       "      <td>...</td>\n",
       "      <td>...</td>\n",
       "      <td>...</td>\n",
       "      <td>...</td>\n",
       "      <td>...</td>\n",
       "      <td>...</td>\n",
       "    </tr>\n",
       "    <tr>\n",
       "      <th>95</th>\n",
       "      <td>2024-09-16</td>\n",
       "      <td>F012</td>\n",
       "      <td>criança</td>\n",
       "      <td>Calça Infantil</td>\n",
       "      <td>1</td>\n",
       "      <td>59.50</td>\n",
       "      <td>59.50</td>\n",
       "    </tr>\n",
       "    <tr>\n",
       "      <th>96</th>\n",
       "      <td>2024-10-05</td>\n",
       "      <td>F049</td>\n",
       "      <td>adulto</td>\n",
       "      <td>Calça</td>\n",
       "      <td>4</td>\n",
       "      <td>90.17</td>\n",
       "      <td>360.68</td>\n",
       "    </tr>\n",
       "    <tr>\n",
       "      <th>97</th>\n",
       "      <td>2024-09-22</td>\n",
       "      <td>F036</td>\n",
       "      <td>adulto</td>\n",
       "      <td>Camisa</td>\n",
       "      <td>2</td>\n",
       "      <td>32.41</td>\n",
       "      <td>64.82</td>\n",
       "    </tr>\n",
       "    <tr>\n",
       "      <th>98</th>\n",
       "      <td>2024-10-08</td>\n",
       "      <td>F006</td>\n",
       "      <td>adulto</td>\n",
       "      <td>Vestido</td>\n",
       "      <td>1</td>\n",
       "      <td>65.62</td>\n",
       "      <td>65.62</td>\n",
       "    </tr>\n",
       "    <tr>\n",
       "      <th>99</th>\n",
       "      <td>2024-10-04</td>\n",
       "      <td>F019</td>\n",
       "      <td>adulto</td>\n",
       "      <td>Camisa</td>\n",
       "      <td>2</td>\n",
       "      <td>15.12</td>\n",
       "      <td>30.24</td>\n",
       "    </tr>\n",
       "  </tbody>\n",
       "</table>\n",
       "<p>100 rows × 7 columns</p>\n",
       "</div>"
      ],
      "text/plain": [
       "    Data Venda ID Funcionário Categoria         Produto  Quantidade  \\\n",
       "0   2024-09-30           F050   criança        Camiseta           3   \n",
       "1   2024-10-08           F006   criança        Camiseta           3   \n",
       "2   2024-10-08           F018   criança         Bermuda           5   \n",
       "3   2024-09-27           F042   criança  Calça Infantil           4   \n",
       "4   2024-10-01           F012    adulto           Calça           2   \n",
       "..         ...            ...       ...             ...         ...   \n",
       "95  2024-09-16           F012   criança  Calça Infantil           1   \n",
       "96  2024-10-05           F049    adulto           Calça           4   \n",
       "97  2024-09-22           F036    adulto          Camisa           2   \n",
       "98  2024-10-08           F006    adulto         Vestido           1   \n",
       "99  2024-10-04           F019    adulto          Camisa           2   \n",
       "\n",
       "    Preço Unitário  Total da Venda  \n",
       "0            90.44          271.32  \n",
       "1            16.55           49.65  \n",
       "2            26.92          134.60  \n",
       "3            99.21          396.84  \n",
       "4            30.62           61.24  \n",
       "..             ...             ...  \n",
       "95           59.50           59.50  \n",
       "96           90.17          360.68  \n",
       "97           32.41           64.82  \n",
       "98           65.62           65.62  \n",
       "99           15.12           30.24  \n",
       "\n",
       "[100 rows x 7 columns]"
      ]
     },
     "metadata": {},
     "output_type": "display_data"
    }
   ],
   "source": [
    "import pandas as pd\n",
    "\n",
    "#lendo a base de dados da tabela csv\n",
    "tabela = pd.read_csv(\"vendas_loja.csv\")\n",
    "#dropando dados que não são relevantes ID\n",
    "tabela = tabela.drop(columns=\"ID Venda\")\n",
    "#mostra os dados de forma mais bonita e relevante\n",
    "display(tabela)\n"
   ]
  },
  {
   "cell_type": "code",
   "execution_count": 6,
   "metadata": {},
   "outputs": [
    {
     "name": "stdout",
     "output_type": "stream",
     "text": [
      "<class 'pandas.core.frame.DataFrame'>\n",
      "RangeIndex: 100 entries, 0 to 99\n",
      "Data columns (total 7 columns):\n",
      " #   Column          Non-Null Count  Dtype  \n",
      "---  ------          --------------  -----  \n",
      " 0   Data Venda      100 non-null    object \n",
      " 1   ID Funcionário  100 non-null    object \n",
      " 2   Categoria       100 non-null    object \n",
      " 3   Produto         100 non-null    object \n",
      " 4   Quantidade      100 non-null    int64  \n",
      " 5   Preço Unitário  100 non-null    float64\n",
      " 6   Total da Venda  100 non-null    float64\n",
      "dtypes: float64(2), int64(1), object(4)\n",
      "memory usage: 5.6+ KB\n"
     ]
    },
    {
     "data": {
      "text/plain": [
       "None"
      ]
     },
     "metadata": {},
     "output_type": "display_data"
    }
   ],
   "source": [
    "#Verificando se tem campos vazios que pode dar diferença na da base de dados\n",
    "#mostra dados da tabela\n",
    "display(tabela.info())\n"
   ]
  },
  {
   "cell_type": "code",
   "execution_count": 30,
   "metadata": {},
   "outputs": [
    {
     "name": "stdout",
     "output_type": "stream",
     "text": [
      "Funcionário que mais vendeu: F018 com um total de vendas de: 1068.09\n",
      "Funcionário que menos vendeu: F030 com um total de vendas de: 17.03\n"
     ]
    }
   ],
   "source": [
    "# Iniciando Análise dos dados\n",
    "#calcular quanto cada funcionario vendeu:\n",
    "dados=tabela[[\"ID Funcionário\",\"Total da Venda\"]].groupby('ID Funcionário').sum()\n",
    "#display(dados)\n",
    "\n",
    "# Funcionário que mais vendeu\n",
    "id_mais_vendeu = dados['Total da Venda'].idxmax()  # ID do funcionário que mais vendeu\n",
    "total_mais_vendeu = dados['Total da Venda'].max()  # Total de vendas do funcionário que mais vendeu\n",
    "print(f\"Funcionário que mais vendeu: {id_mais_vendeu} com um total de vendas de: {total_mais_vendeu}\")\n",
    "\n",
    "# Funcionário que menos vendeu\n",
    "id_menos_vendeu = dados['Total da Venda'].idxmin()  # ID do funcionário que menos vendeu\n",
    "total_menos_vendeu = dados['Total da Venda'].min()  # Total de vendas do funcionário que menos vendeu\n",
    "print(f\"Funcionário que menos vendeu: {id_menos_vendeu} com um total de vendas de: {total_menos_vendeu}\")"
   ]
  },
  {
   "cell_type": "code",
   "execution_count": 57,
   "metadata": {},
   "outputs": [
    {
     "data": {
      "text/plain": [
       "Total da Venda    2168.16\n",
       "Name: Calça, dtype: float64"
      ]
     },
     "metadata": {},
     "output_type": "display_data"
    },
    {
     "data": {
      "text/plain": [
       "Total da Venda    986.28\n",
       "Name: Casaco Infantil, dtype: float64"
      ]
     },
     "metadata": {},
     "output_type": "display_data"
    }
   ],
   "source": [
    "#calcular total de cada produto vendido por funcionario :\n",
    "total_prod_vendidos_por_func=tabela[[\"ID Funcionário\",\"Produto\",\"Total da Venda\"]].groupby([\"ID Funcionário\",\"Produto\"]).sum()\n",
    "#display(total_prod_vendidos_por_func)\n",
    "# Encontrar o produto mais vendido por cada funcionário\n",
    "produto_mais_vendido_por_func = total_prod_vendidos_por_func.loc[total_prod_vendidos_por_func.groupby('ID Funcionário')['Total da Venda'].idxmax()]\n",
    "#display(produto_mais_vendido_por_func)\n",
    "\n",
    "# Encontrar o produto mais vendido por cada funcionário\n",
    "produto_menos_vendido_por_func = total_prod_vendidos_por_func.loc[total_prod_vendidos_por_func.groupby('ID Funcionário')['Total da Venda'].idxmin()]\n",
    "#display(produto_menos_vendido_por_func)\n",
    "\n",
    "#busca pelo total de vendas de cada produto\n",
    "total_vendas_por_prod=tabela[[\"Produto\",\"Total da Venda\"]].groupby(\"Produto\").sum()\n",
    "#display(total_vendas_por_prod)\n",
    "#busca pelo produto mais vendido\n",
    "prod_mais_vendido=total_vendas_por_prod.loc[total_vendas_por_prod[\"Total da Venda\"].idxmax()]\n",
    "display(prod_mais_vendido)\n",
    "\n",
    "#busca pelo produto menos vendido\n",
    "prod_menos_vendido=total_vendas_por_prod.loc[total_vendas_por_prod[\"Total da Venda\"].idxmin()]\n",
    "display(prod_menos_vendido)"
   ]
  }
 ],
 "metadata": {
  "kernelspec": {
   "display_name": "Python 3",
   "language": "python",
   "name": "python3"
  },
  "language_info": {
   "codemirror_mode": {
    "name": "ipython",
    "version": 3
   },
   "file_extension": ".py",
   "mimetype": "text/x-python",
   "name": "python",
   "nbconvert_exporter": "python",
   "pygments_lexer": "ipython3",
   "version": "3.12.6"
  }
 },
 "nbformat": 4,
 "nbformat_minor": 2
}
