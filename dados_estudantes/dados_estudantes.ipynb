{
 "cells": [
  {
   "cell_type": "markdown",
   "metadata": {},
   "source": [
    "# Python - Analisando Dados com Python\n",
    "\n",
    "### Case - Estudantes\n",
    "\n",
    "Com base nos meus estudos em Ciência de dados estou aplicando conceitos estatísticos em analise de dados para fins de estudos  e aprimoramento na prática, o cenário é um simples de uma escola. Vamos usar Python para entender as medidas são elas:\n",
    "\n",
    "-> Medida de tendência central:\n",
    "\n",
    "    a- Média Aritmética\n",
    "    \n",
    "    b- Média Ponderada\n",
    "    \n",
    "    c- Mediana\n",
    "\n",
    "-> Medida de dispersão:\n",
    "    \n",
    "    a- Amplitude total\n",
    "    \n",
    "    b- Desvio Médio\n",
    "    \n",
    "    c- Variância \n",
    "    \n",
    "    d- Coeficiente de Variação.    "
   ]
  },
  {
   "cell_type": "code",
   "execution_count": null,
   "metadata": {},
   "outputs": [],
   "source": [
    "# Importar librarys para análise\n",
    "#!pip install pandas numpy openpyxl nbformat plotly\n"
   ]
  },
  {
   "cell_type": "code",
   "execution_count": 121,
   "metadata": {},
   "outputs": [
    {
     "data": {
      "text/html": [
       "<div>\n",
       "<style scoped>\n",
       "    .dataframe tbody tr th:only-of-type {\n",
       "        vertical-align: middle;\n",
       "    }\n",
       "\n",
       "    .dataframe tbody tr th {\n",
       "        vertical-align: top;\n",
       "    }\n",
       "\n",
       "    .dataframe thead th {\n",
       "        text-align: right;\n",
       "    }\n",
       "</style>\n",
       "<table border=\"1\" class=\"dataframe\">\n",
       "  <thead>\n",
       "    <tr style=\"text-align: right;\">\n",
       "      <th></th>\n",
       "      <th>Nome</th>\n",
       "      <th>Notas</th>\n",
       "      <th>Peso</th>\n",
       "    </tr>\n",
       "  </thead>\n",
       "  <tbody>\n",
       "    <tr>\n",
       "      <th>0</th>\n",
       "      <td>Olivia</td>\n",
       "      <td>98</td>\n",
       "      <td>0.2</td>\n",
       "    </tr>\n",
       "    <tr>\n",
       "      <th>1</th>\n",
       "      <td>Paul</td>\n",
       "      <td>91</td>\n",
       "      <td>0.3</td>\n",
       "    </tr>\n",
       "    <tr>\n",
       "      <th>2</th>\n",
       "      <td>Tina</td>\n",
       "      <td>81</td>\n",
       "      <td>0.2</td>\n",
       "    </tr>\n",
       "    <tr>\n",
       "      <th>3</th>\n",
       "      <td>Grace</td>\n",
       "      <td>52</td>\n",
       "      <td>0.5</td>\n",
       "    </tr>\n",
       "    <tr>\n",
       "      <th>4</th>\n",
       "      <td>Uma</td>\n",
       "      <td>95</td>\n",
       "      <td>0.3</td>\n",
       "    </tr>\n",
       "    <tr>\n",
       "      <th>...</th>\n",
       "      <td>...</td>\n",
       "      <td>...</td>\n",
       "      <td>...</td>\n",
       "    </tr>\n",
       "    <tr>\n",
       "      <th>96</th>\n",
       "      <td>Grace</td>\n",
       "      <td>95</td>\n",
       "      <td>0.5</td>\n",
       "    </tr>\n",
       "    <tr>\n",
       "      <th>97</th>\n",
       "      <td>Kevin</td>\n",
       "      <td>93</td>\n",
       "      <td>0.4</td>\n",
       "    </tr>\n",
       "    <tr>\n",
       "      <th>98</th>\n",
       "      <td>Carol</td>\n",
       "      <td>92</td>\n",
       "      <td>0.4</td>\n",
       "    </tr>\n",
       "    <tr>\n",
       "      <th>99</th>\n",
       "      <td>Nathan</td>\n",
       "      <td>76</td>\n",
       "      <td>0.1</td>\n",
       "    </tr>\n",
       "    <tr>\n",
       "      <th>100</th>\n",
       "      <td>Yvonne</td>\n",
       "      <td>78</td>\n",
       "      <td>0.2</td>\n",
       "    </tr>\n",
       "  </tbody>\n",
       "</table>\n",
       "<p>101 rows × 3 columns</p>\n",
       "</div>"
      ],
      "text/plain": [
       "       Nome  Notas  Peso\n",
       "0    Olivia     98   0.2\n",
       "1      Paul     91   0.3\n",
       "2      Tina     81   0.2\n",
       "3     Grace     52   0.5\n",
       "4       Uma     95   0.3\n",
       "..      ...    ...   ...\n",
       "96    Grace     95   0.5\n",
       "97    Kevin     93   0.4\n",
       "98    Carol     92   0.4\n",
       "99   Nathan     76   0.1\n",
       "100  Yvonne     78   0.2\n",
       "\n",
       "[101 rows x 3 columns]"
      ]
     },
     "metadata": {},
     "output_type": "display_data"
    }
   ],
   "source": [
    "import pandas as pd\n",
    "\n",
    "#lendo a base de dados da tabela csv\n",
    "tabela = pd.read_csv(\"dados_estudantes.csv\")\n",
    "#dropando dados que não são relevantes ID\n",
    "tabela = tabela.drop(columns=\"ID\")\n",
    "#mostra os dados de forma mais bonita e relevante\n",
    "display(tabela)\n"
   ]
  },
  {
   "cell_type": "code",
   "execution_count": 122,
   "metadata": {},
   "outputs": [
    {
     "name": "stdout",
     "output_type": "stream",
     "text": [
      "<class 'pandas.core.frame.DataFrame'>\n",
      "RangeIndex: 101 entries, 0 to 100\n",
      "Data columns (total 3 columns):\n",
      " #   Column  Non-Null Count  Dtype  \n",
      "---  ------  --------------  -----  \n",
      " 0   Nome    101 non-null    object \n",
      " 1   Notas   101 non-null    int64  \n",
      " 2   Peso    101 non-null    float64\n",
      "dtypes: float64(1), int64(1), object(1)\n",
      "memory usage: 2.5+ KB\n"
     ]
    },
    {
     "data": {
      "text/plain": [
       "None"
      ]
     },
     "metadata": {},
     "output_type": "display_data"
    }
   ],
   "source": [
    "#Verificando se tem campos vazios que pode dar diferença na da base de dados\n",
    "#mostra dados da tabela\n",
    "display(tabela.info())\n",
    "#dropna tira os valores vazios Nan\n",
    "tabela = tabela.dropna()\n",
    "#tirando dados duplicados\n",
    "#tabela = tabela.drop_duplicates()\n"
   ]
  },
  {
   "cell_type": "code",
   "execution_count": 123,
   "metadata": {},
   "outputs": [
    {
     "name": "stdout",
     "output_type": "stream",
     "text": [
      "soma de notas= 7642\n",
      "qntd de notas= 101\n",
      "Média Aritmética= 75.66336633663366\n"
     ]
    }
   ],
   "source": [
    "# Iniciando Análise dos dados\n",
    "#calcular a media aritmética:\n",
    "#pega total de notas\n",
    "qntd_notas=tabela[\"Notas\"].count()\n",
    "soma_notas=tabela[\"Notas\"].sum()\n",
    "print(\"soma de notas= \"+str(soma_notas))\n",
    "print(\"qntd de notas= \"+str(qntd_notas))\n",
    "#soma das notas / quantidade de notas\n",
    "media_aritmetica=soma_notas/qntd_notas\n",
    "print(\"Média Aritmética= \"+str(media_aritmetica))\n"
   ]
  },
  {
   "cell_type": "code",
   "execution_count": 125,
   "metadata": {},
   "outputs": [
    {
     "name": "stdout",
     "output_type": "stream",
     "text": [
      "Soma Nota* Peso =2362.70\n",
      "Soma dos pesos= 31.30\n",
      "Média Ponderada= 75.49\n"
     ]
    }
   ],
   "source": [
    "#calcular a media pondera:\n",
    "#pega o total de nota * peso\n",
    "#percorrendo todo csv com for\n",
    "#pegando nota e peso\n",
    "\n",
    "x=0\n",
    "y=0\n",
    "for index, row in tabela.iterrows():\n",
    "    nota = row['Notas']  # Coluna \"Notas\"\n",
    "    peso = row['Peso']    # Coluna \"Peso\"\n",
    "    \n",
    "   \n",
    "\n",
    "    x=x+(nota*peso)\n",
    "    y=y+peso\n",
    "\n",
    "   \n",
    "\n",
    "    # Fazer algo com os valores extraídos\n",
    "    #print(f\"Notas: {nota}, Peso: {peso}\")\n",
    "    #print(\"Nota (\"+str(notas)+\") * Peso(\"+str(peso)+\")\")\n",
    "\n",
    "\n",
    "\n",
    "print(\"Soma Nota* Peso ={:.2f}\".format(x))\n",
    "print(\"Soma dos pesos= {:.2f}\".format(y))\n",
    "#calculando a media aritmetica\n",
    "media_ponderada=x/y\n",
    "print(\"Média Ponderada= {:.2f}\".format(media_ponderada))"
   ]
  },
  {
   "cell_type": "code",
   "execution_count": 126,
   "metadata": {},
   "outputs": [
    {
     "data": {
      "text/plain": [
       "Notas\n",
       "95     7\n",
       "78     7\n",
       "89     5\n",
       "79     4\n",
       "81     4\n",
       "52     4\n",
       "51     4\n",
       "62     4\n",
       "93     4\n",
       "68     4\n",
       "91     3\n",
       "76     3\n",
       "59     3\n",
       "64     3\n",
       "98     3\n",
       "71     3\n",
       "65     3\n",
       "72     3\n",
       "55     3\n",
       "73     2\n",
       "67     2\n",
       "96     2\n",
       "90     2\n",
       "100    2\n",
       "74     2\n",
       "61     2\n",
       "50     2\n",
       "82     2\n",
       "69     1\n",
       "66     1\n",
       "60     1\n",
       "97     1\n",
       "87     1\n",
       "63     1\n",
       "85     1\n",
       "84     1\n",
       "92     1\n",
       "Name: count, dtype: int64"
      ]
     },
     "metadata": {},
     "output_type": "display_data"
    },
    {
     "name": "stdout",
     "output_type": "stream",
     "text": [
      "Mediana: 76.00\n"
     ]
    }
   ],
   "source": [
    "#calcular a mediana:\n",
    "#percorrendo todo csv com for para achar a mediana\n",
    "# Calcular a mediana\n",
    "resultado = tabela['Notas'].median()\n",
    "contagem_notas = tabela['Notas'].value_counts()\n",
    "display(contagem_notas)\n",
    "print(f\"Mediana: {resultado:.2f}\") \n"
   ]
  },
  {
   "cell_type": "code",
   "execution_count": 127,
   "metadata": {},
   "outputs": [
    {
     "data": {
      "image/png": "[encoded data removed]",
      "text/plain": [
       "<Figure size 640x480 with 1 Axes>"
      ]
     },
     "metadata": {},
     "output_type": "display_data"
    }
   ],
   "source": [
    "#!pip install matplotlib\n",
    "#importanto para grafico\n",
    "import matplotlib.pyplot as plt\n",
    "\n",
    "#pegando frequencia de cada nota\n",
    "contagem_notas = tabela['Notas'].value_counts()\n",
    "\n",
    "for index, row in tabela.iterrows():\n",
    "    nota = row['Notas']  # Coluna \"Notas\"\n",
    "    peso = row['Peso']    # Coluna \"Peso\"\n",
    "\n",
    "# pega as notas pelo indice\n",
    "notas = contagem_notas.index\n",
    "#pega quantidade  frequencia de casa nota\n",
    "quantidade = contagem_notas.values\n",
    "\n",
    "# Criar o gráfico de barras\n",
    "plt.bar(notas, quantidade, color='blue',label='Quantidade de Notas')\n",
    "\n",
    "# Adicionar título e rótulos\n",
    "plt.title('Quantidade de Vezes que as Notas Aparecem')\n",
    "plt.xlabel('Notas')\n",
    "plt.ylabel('Quantidade')\n",
    "\n",
    "# Adicionar legenda\n",
    "plt.legend()\n",
    "# Mostrar o gráfico\n",
    "plt.show()\n"
   ]
  },
  {
   "cell_type": "code",
   "execution_count": 128,
   "metadata": {},
   "outputs": [
    {
     "name": "stdout",
     "output_type": "stream",
     "text": [
      "As notas que mais se repetem são 95, 78 e aparecem 7 vezes.\n"
     ]
    },
    {
     "data": {
      "text/plain": [
       "'for nota, count in contagem_notas.items():\\n    if count == max_count:\\n        nota_mais_frequente = nota\\n        break  # Interrompe o loop após encontrar a primeira ocorrência\\n\\nprint(f\"A nota que mais se repete é {nota_mais_frequente} e aparece {max_count} vezes.\")'"
      ]
     },
     "execution_count": 128,
     "metadata": {},
     "output_type": "execute_result"
    }
   ],
   "source": [
    "#Calculando a moda\n",
    "#valor(es) q mais se repete\n",
    "#pegando frequencia de cada nota\n",
    "contagem_notas = tabela['Notas'].value_counts()\n",
    "#pega  nota q mais se repete\n",
    "#print(contagem_notas.idxmax())\n",
    "# as vezes  q mais se repete\n",
    "#print(contagem_notas.max())\n",
    "\n",
    "#usando loop\n",
    "# Encontrar a nota que mais se repete usando um loop\n",
    "max_count = contagem_notas.max()  # Número máximo de ocorrências\n",
    "nota_mais_frequente = None\n",
    "\n",
    "# Encontrar as notas que têm a contagem máxima\n",
    "notas_mais_frequentes = contagem_notas[contagem_notas == max_count]\n",
    "\n",
    "# Verificar a modalidade\n",
    "if len(notas_mais_frequentes) == 1:\n",
    "    # Unimodal\n",
    "    print(f\"A nota que mais se repete é {notas_mais_frequentes.index[0]} e aparece {max_count} vezes.\")\n",
    "elif len(notas_mais_frequentes) > 1:\n",
    "    # Bimodal ou mais\n",
    "    notas = \", \".join(map(str, notas_mais_frequentes.index))\n",
    "    print(f\"As notas que mais se repetem são {notas} e aparecem {max_count} vezes.\")\n",
    "else:\n",
    "    # Amodal\n",
    "    print(\"Não há uma nota que se repete mais frequentemente.\")\n",
    "\n",
    "\"\"\"for nota, count in contagem_notas.items():\n",
    "    if count == max_count:\n",
    "        nota_mais_frequente = nota\n",
    "        break  # Interrompe o loop após encontrar a primeira ocorrência\n",
    "\n",
    "print(f\"A nota que mais se repete é {nota_mais_frequente} e aparece {max_count} vezes.\")\"\"\"\n",
    "\n",
    "\n",
    "\n",
    "\n"
   ]
  }
 ],
 "metadata": {
  "kernelspec": {
   "display_name": "Python 3",
   "language": "python",
   "name": "python3"
  },
  "language_info": {
   "codemirror_mode": {
    "name": "ipython",
    "version": 3
   },
   "file_extension": ".py",
   "mimetype": "text/x-python",
   "name": "python",
   "nbconvert_exporter": "python",
   "pygments_lexer": "ipython3",
   "version": "3.12.6"
  }
 },
 "nbformat": 4,
 "nbformat_minor": 2
}
